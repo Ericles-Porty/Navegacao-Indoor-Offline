{
 "cells": [
  {
   "cell_type": "markdown",
   "metadata": {
    "id": "OIswfXSGbXT8"
   },
   "source": [
    "**Importando arquivo JFF para o Grafo**"
   ]
  },
  {
   "cell_type": "code",
   "execution_count": null,
   "metadata": {
    "colab": {
     "base_uri": "https://localhost:8080/",
     "height": 1000
    },
    "executionInfo": {
     "elapsed": 1796,
     "status": "ok",
     "timestamp": 1605724586840,
     "user": {
      "displayName": "Alcides Xavier Benicasa",
      "photoUrl": "https://lh3.googleusercontent.com/a-/AOh14GjrvtWIYgTdHKFi5LwROCWFJqSs4qDsLZyIddaS=s64",
      "userId": "09050602017292986066"
     },
     "user_tz": 180
    },
    "id": "iVTbtKoM-lWN",
    "outputId": "bca9dae5-f932-42d7-e6e1-26000fb554dd"
   },
   "outputs": [],
   "source": [
    "from xml.dom import minidom\n",
    "\n",
    "xmldoc = minidom.parse(\"grafo.jff\")         #Carregando arquivo do JFLAP\n",
    "itemlist = xmldoc.getElementsByTagName('state')                # Tag <state>  \n",
    "n_Vertex = len(itemlist)                              \n",
    "print('Número de Vértices:', len(itemlist))  \n",
    "v_name = []                  # Total de Estados\n",
    "for s in itemlist:\n",
    "     v_name.append(s.attributes['name'].value) \n",
    "# print(v_name)\n",
    "\n",
    "#Criação da posição dos vértices no grafo à partir do arquivo .jff do jFlap\n",
    "vertice_pos_x = []                                                   \n",
    "itemlist = xmldoc.getElementsByTagName('x')                 # Tag <x>\n",
    "print('Número de Posições x:', len(itemlist))\n",
    "for item in itemlist:\n",
    "   vertice_pos_x.append(item.childNodes[0].nodeValue)\n",
    "\n",
    "vertice_pos_y = []                                                   \n",
    "itemlist = xmldoc.getElementsByTagName('y')                 # Tag <y>\n",
    "print('Número de Posições y:', len(itemlist))\n",
    "for item in itemlist:\n",
    "   vertice_pos_y.append(item.childNodes[0].nodeValue)\n",
    "\n",
    "#Criação das arestas no grafo à partir do arquivo .jff do jFlap\n",
    "transition_from = []                                                   \n",
    "itemlist = xmldoc.getElementsByTagName('from')                 # Tag <from>\n",
    "n_transition = len(itemlist)\n",
    "print('Número de Transições:', len(itemlist))\n",
    "for item in itemlist:\n",
    "   transition_from.append(item.childNodes[0].nodeValue)\n",
    "\n",
    "transition_to = []\n",
    "itemlist = xmldoc.getElementsByTagName('to')                   # Tag <to>\n",
    "for item in itemlist:\n",
    "   transition_to.append(item.childNodes[0].nodeValue)\n",
    "\n",
    "transition_read = []\n",
    "itemlist = xmldoc.getElementsByTagName('read')                 # Tag <read>\n",
    "for item in itemlist:\n",
    "   transition_read.append(item.childNodes[0].nodeValue)\n",
    "\n",
    "transition_actions = []\n",
    "for edge in range(n_transition):\n",
    "     transition_actions.append(str(transition_read[edge])) \n",
    "\n",
    "print(transition_actions)\n"
   ]
  }
 ],
 "metadata": {
  "colab": {
   "authorship_tag": "ABX9TyNRPFTOmCjgB08pWDC/qalT",
   "collapsed_sections": [],
   "name": "2020.1 - IA - Métodos de Busca em Profundidade com Grafo - ESTUDO.ipynb",
   "provenance": [
    {
     "file_id": "1CNVI8G4C-islQWFhI9McTj3JkvYY_XJY",
     "timestamp": 1605036465962
    }
   ]
  },
  "kernelspec": {
   "display_name": "Python 3",
   "language": "python",
   "name": "python3"
  },
  "language_info": {
   "codemirror_mode": {
    "name": "ipython",
    "version": 3
   },
   "file_extension": ".py",
   "mimetype": "text/x-python",
   "name": "python",
   "nbconvert_exporter": "python",
   "pygments_lexer": "ipython3",
   "version": "3.11.1"
  },
  "vscode": {
   "interpreter": {
    "hash": "7d885e7cdcb3999a4bc49046623234298e548566b1f51b0aacf3fa2c19dbeed0"
   }
  }
 },
 "nbformat": 4,
 "nbformat_minor": 1
}
