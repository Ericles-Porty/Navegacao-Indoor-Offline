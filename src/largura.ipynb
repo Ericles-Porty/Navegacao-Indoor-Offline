{
 "cells": [
  {
   "cell_type": "markdown",
   "metadata": {
    "id": "yiPMMLIJYg3c"
   },
   "source": [
    "**Importando arquivo .CSV para o Grafo**"
   ]
  },
  {
   "cell_type": "code",
   "execution_count": null,
   "metadata": {
    "colab": {
     "base_uri": "https://localhost:8080/",
     "height": 821
    },
    "executionInfo": {
     "elapsed": 1197,
     "status": "ok",
     "timestamp": 1605036592096,
     "user": {
      "displayName": "Alcides Xavier Benicasa",
      "photoUrl": "https://lh3.googleusercontent.com/a-/AOh14GjrvtWIYgTdHKFi5LwROCWFJqSs4qDsLZyIddaS=s64",
      "userId": "09050602017292986066"
     },
     "user_tz": 180
    },
    "id": "lGuofIMmgrvZ",
    "outputId": "29665c36-180f-40c2-af76-06251b341cb9"
   },
   "outputs": [],
   "source": [
    "import graph_tool.all as gt                       # Biblioteca para GRAFO\n",
    "import csv                                        # Biblioteca para Leitura do csv\n",
    "\n",
    "g = gt.Graph() \n",
    "g.set_directed(True)                             # criação do objeto\n",
    "v_name = g.new_vertex_property(\"string\")          # referenciação da lista v_name com uma nova propriedade (label) criada para o vértice - tipo string  \n",
    "\n",
    "#Criação dos vértices no grafo à partir do arquivo .cvs de vértices\n",
    "f_network = open(\"vertices.csv\", 'r')\n",
    "reader_network = csv.reader(f_network, delimiter=\";\")\n",
    "for vertice in reader_network:\n",
    "     v = g.add_vertex()\n",
    "     v_name[v] = str(vertice[1])\n",
    "f_network.close()\n",
    "# Lista de vértices criados\n",
    "print(list(v_name))\n",
    "\n",
    "#Criação das arestas no grafo à partir do arquivo .cvs de arestas\n",
    "f_network = open(\"arestas.csv\", 'r')\n",
    "reader_network = csv.reader(f_network, delimiter=\";\")\n",
    "for edge in reader_network:\n",
    "     g.add_edge(int(edge[0]), int(edge[1]))\n",
    "f_network.close()\n",
    "# Lista de arestas criadas\n",
    "print(g.get_edges())\n",
    "\n",
    "#Desenhando o grafo\n",
    "gt.graph_draw(g, #pos=gt.arf_layout(visual_G),\n",
    "               vertex_text= v_name,\n",
    "               edge_pen_width = 1,              \n",
    "               vertex_font_size=18,\n",
    "               edge_font_size = 10,\n",
    "               vertex_shape=\"double_circle\",\n",
    "               vertex_fill_color=\"#729fcf\",\n",
    "               output_size=(800, 600))\n",
    "               #output=\"two-nodes.png\")\n",
    "            "
   ]
  },
  {
   "cell_type": "markdown",
   "metadata": {
    "id": "QvttJtQuY6-i"
   },
   "source": [
    "**Busca em Largura - Ordem de Expansão dos Nodos**"
   ]
  },
  {
   "cell_type": "code",
   "execution_count": null,
   "metadata": {
    "colab": {
     "base_uri": "https://localhost:8080/",
     "height": 559
    },
    "executionInfo": {
     "elapsed": 1191,
     "status": "ok",
     "timestamp": 1605036595768,
     "user": {
      "displayName": "Alcides Xavier Benicasa",
      "photoUrl": "https://lh3.googleusercontent.com/a-/AOh14GjrvtWIYgTdHKFi5LwROCWFJqSs4qDsLZyIddaS=s64",
      "userId": "09050602017292986066"
     },
     "user_tz": 180
    },
    "id": "cNStqWHb6vsr",
    "outputId": "e82e60a8-1d9e-4ae3-d8d5-f84df84d9c67"
   },
   "outputs": [],
   "source": [
    "import graph_tool.all as gt                           # Biblioteca para GRAFO\n",
    "g_bfs = gt.Graph()                                    # criação do objeto para busca em Largura\n",
    "v_name_bfs = g_bfs.new_vertex_property(\"string\")      # referenciação da lista v_name com uma nova propriedade (label) criada para o vértice - tipo string \n",
    "e_ord = g_bfs.new_edge_property(\"int\")                # referenciação da lista e_ord com uma nova propriedade criada para a ordem de expansão - tipo int\n",
    "\n",
    "#Criação dos vértices no grafo à partir do arquivo .cvs de vértices\n",
    "f_network = open(\"vertices.csv\", 'r')\n",
    "reader_network = csv.reader(f_network, delimiter=\";\")\n",
    "for vertice in reader_network:\n",
    "     v = g_bfs.add_vertex()\n",
    "     v_name_bfs[v] = str(vertice[1])\n",
    "f_network.close()\n",
    "\n",
    "#Busca em Largura (dfs) e geração das arestas\n",
    "ord = 1\n",
    "for edge in gt.bfs_iterator(g, g.vertex(0)):\n",
    "   print(v_name[int(edge.source())], \"->\", v_name[int(edge.target())])\n",
    "   e = g_bfs.add_edge(int(edge.source()), int(edge.target()))\n",
    "   e_ord[e] = ord\n",
    "   ord += 1\n",
    "\n",
    "#Desenhando o grafo\n",
    "size = 800\n",
    "v_size = size / 15\n",
    "e_pwidth = v_size / 8\n",
    "gt.graph_draw(g_bfs, #pos=gt.sfdp_layout(g_bfs),\n",
    "              vertex_size = v_size,\n",
    "              vertex_text= v_name_bfs,\n",
    "              edge_text= e_ord,\n",
    "              vertex_font_size=18,\n",
    "              edge_font_size = 10,\n",
    "              edge_pen_width = e_pwidth,\n",
    "              vertex_shape=\"double_circle\",\n",
    "              vertex_fill_color=\"#729fcf\",\n",
    "              output_size=(size, size*0.8))\n",
    "              #output=\"two-nodes.png\")           \n"
   ]
  },
  {
   "cell_type": "markdown",
   "metadata": {
    "id": "9B49bKxA5oQq"
   },
   "source": [
    "**Busca em Largura - Busca e Apresentação do Caminho**"
   ]
  },
  {
   "cell_type": "code",
   "execution_count": 10,
   "metadata": {
    "executionInfo": {
     "elapsed": 917,
     "status": "ok",
     "timestamp": 1605036600032,
     "user": {
      "displayName": "Alcides Xavier Benicasa",
      "photoUrl": "https://lh3.googleusercontent.com/a-/AOh14GjrvtWIYgTdHKFi5LwROCWFJqSs4qDsLZyIddaS=s64",
      "userId": "09050602017292986066"
     },
     "user_tz": 180
    },
    "id": "SHt5kgqP7YLx"
   },
   "outputs": [],
   "source": [
    "class VisitorExample(gt.BFSVisitor):                                            # É um objeto visitante que é chamado nos pontos de evento dentro do algoritmo bfs_search()\n",
    "\n",
    "    def __init__(self, name, pred, dist, time, name_time, color, v_color):\n",
    "        self.name = name\n",
    "        self.pred = pred\n",
    "        self.dist = dist\n",
    "        self.time = time\n",
    "        self.name_time = name_time\n",
    "        self.last_time = 0\n",
    "        self.color = color\n",
    "        self.fill_color = v_color\n",
    "\n",
    "    def discover_vertex(self, u):                                               # Invocado quando um vértice é encontrado pela primeira vez.\n",
    "        self.name[u] = v_name[u]\n",
    "        self.time[u] = self.last_time\n",
    "        self.last_time += 1        \n",
    "        self.name_time[u] = str(self.name[u]) + \"(\" + str(self.time[u]) + \")\"\n",
    "        print(\"-->\", self.name[u], \"foi encontrado e entrou na FILA\") \n",
    "        self.fill_color[u] = \"white\"\n",
    "\n",
    "    def examine_vertex(self, u):                                                # Invocado em um vértice à medida que é retirado da fila. \n",
    "        print(self.name[u], \"saiu da FILA e está sendo analisado (expandido)...\") \n",
    "\n",
    "    def tree_edge(self, e):                                                     # Invocado em cada aresta à medida que se torna um \n",
    "        self.pred[e.target()] = int(e.source())                                 # membro das arestas que formam a árvore de pesquisa.\n",
    "        self.dist[e.target()] = self.dist[e.source()] + 1\n",
    "        e = g_bfs.add_edge(int(e.source()), int(e.target()))\n",
    "        self.color[e] = \"gray\"\n",
    "\n",
    "    def finish_vertex(self, u):\n",
    "        print(\"Todos os vértices adjacentes à\", self.name[u], \"foram descobertos!\") \n"
   ]
  },
  {
   "cell_type": "code",
   "execution_count": null,
   "metadata": {
    "colab": {
     "base_uri": "https://localhost:8080/",
     "height": 1000
    },
    "executionInfo": {
     "elapsed": 1237,
     "status": "ok",
     "timestamp": 1605037945760,
     "user": {
      "displayName": "Alcides Xavier Benicasa",
      "photoUrl": "https://lh3.googleusercontent.com/a-/AOh14GjrvtWIYgTdHKFi5LwROCWFJqSs4qDsLZyIddaS=s64",
      "userId": "09050602017292986066"
     },
     "user_tz": 180
    },
    "id": "PGHXzpWZIU3Q",
    "outputId": "a4c7b4cd-bf6d-4275-892c-b755bf3a3465"
   },
   "outputs": [],
   "source": [
    "#Busca em Largura (bfs) e geração das arestas\n",
    "g_bfs = gt.Graph()                                      # criação do objeto para busca em Largura\n",
    "v_name_bfs   = g_bfs.new_vertex_property(\"string\")      # referenciação da lista v_name com uma nova propriedade (label) criada para o vértice - tipo string \n",
    "v_name_time  = g_bfs.new_vertex_property(\"string\")      # referenciação da lista timed com uma nova propriedade da aresta criada para a ordem de expansão - tipo int\n",
    "dist         = g_bfs.new_vertex_property(\"int\")         # referenciação da lista dist como uma propriedade do vértice criada para a distância da raiz\n",
    "pred         = g_bfs.new_vertex_property(\"int64_t\")     # referenciação da lista pred como uma propriedade do vétice criada para referenciar o predecessor (pai)\n",
    "time         = g_bfs.new_vertex_property(\"int\")         # referenciação da lista timed com uma nova propriedade da aresta criada para a ordem de expansão - tipo int\n",
    "color        = g_bfs.new_edge_property(\"string\")        # referenciação da lista ecolor com uma nova propriedade criada para a aresta - tipo string  \n",
    "v_color      = g_bfs.new_vertex_property(\"string\")    # referenciação da lista ecolor com uma nova propriedade criada para o vértice - tipo string  \n",
    "\n",
    "print(\"---------------------------------------------\")\n",
    "print(\"> Busca em Largura - Caminhamento pelos Estados\")\n",
    "print(\"---------------------------------------------\\n\")\n",
    "raiz = 'A'\n",
    "alvo = 'AI'\n",
    "index_raiz = list(v_name).index(raiz)\n",
    "\n",
    "gt.bfs_search(g, g.vertex(index_raiz), VisitorExample(v_name_bfs, pred, dist, time, v_name_time, color, v_color))\n",
    "print(\"\\n> Informações relevantes:\")\n",
    "print(\"-----------------------------\\n\")\n",
    "print(\"Espaço de Estados......:\", list(v_name_bfs))\n",
    "print(\"Ordem de Expansão......:\", list(time))\n",
    "print(\"Estados e Ordem de Exp.:\", list(v_name_time))\n",
    "print(\"Precedessores..........:\", list(pred))\n",
    "print(\"Distância da raiz......:\", list(dist))\n",
    "print(\"Cores Arestas..........:\", list(color))\n",
    "\n",
    "print(\"\\n> Procura de um Estado e Caminho:\")\n",
    "print(\"-----------------------------\\n\")\n",
    "index = list(v_name_bfs).index(alvo)                     # Localizando o índice do Estado a ser encontrado\n",
    "path = []                                                # array do caminho\n",
    "path.insert(0,v_name_bfs[index])                         # inserções sendo realizadas no início\n",
    "v_color[index] = \"green\"\n",
    "while index != index_raiz:\n",
    "  e = g_bfs.edge(pred[index], index)\n",
    "  color[e] = \"red\"\n",
    "  index = pred[index]\n",
    "  path.insert(0,v_name_bfs[index])\n",
    "  v_color[index] = \"#729fcf\"\n",
    "v_color[index_raiz] = \"#729fcf\"; print(\"Cores Vértices.........:\", list(v_color))\n",
    "\n",
    "print(\"Caminho encontrado.....:\",path)                   # mostrando o caminho encontrado da raiz ao alvo\n",
    "\n",
    "#Desenhando o grafo\n",
    "size = 800\n",
    "v_size = size / 15\n",
    "e_pwidth = v_size / 8\n",
    "gt.graph_draw(g_bfs, #pos=gt.sfdp_layout(g_bfs),\n",
    "              vertex_size = v_size,\n",
    "              vertex_text= v_name_bfs,\n",
    "              #edge_text= time,\n",
    "              edge_color= color,\n",
    "              vertex_font_size=18,\n",
    "              edge_font_size = 10,\n",
    "              edge_pen_width = e_pwidth,\n",
    "              vertex_fill_color=v_color,              \n",
    "              vertex_shape=\"double_circle\",\n",
    "              #vertex_fill_color=\"#729fcf\",\n",
    "              output_size=(size, size*0.8))\n",
    "              #output=\"two-nodes.png\")    \n"
   ]
  }
 ],
 "metadata": {
  "colab": {
   "authorship_tag": "ABX9TyPQLv2WH6loDQeaVRqvVaqJ",
   "collapsed_sections": [],
   "name": "2020.1 - IA - Métodos de Busca em Largura com Grafo - MONLEVADE.ipynb",
   "provenance": [
    {
     "file_id": "1CNVI8G4C-islQWFhI9McTj3JkvYY_XJY",
     "timestamp": 1605036465962
    }
   ]
  },
  "kernelspec": {
   "display_name": "Python 3",
   "language": "python",
   "name": "python3"
  },
  "language_info": {
   "codemirror_mode": {
    "name": "ipython",
    "version": 3
   },
   "file_extension": ".py",
   "mimetype": "text/x-python",
   "name": "python",
   "nbconvert_exporter": "python",
   "pygments_lexer": "ipython3",
   "version": "3.9.5"
  }
 },
 "nbformat": 4,
 "nbformat_minor": 1
}
